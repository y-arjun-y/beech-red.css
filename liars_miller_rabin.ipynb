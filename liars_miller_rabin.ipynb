{
  "nbformat": 4,
  "nbformat_minor": 0,
  "metadata": {
    "colab": {
      "name": "liars_miller_rabin.ipynb",
      "provenance": [],
      "collapsed_sections": [],
      "toc_visible": true,
      "authorship_tag": "ABX9TyNDKtj6NSc1tsTpayr1hc+h",
      "include_colab_link": true
    },
    "kernelspec": {
      "name": "python3",
      "display_name": "Python 3"
    },
    "language_info": {
      "name": "python"
    }
  },
  "cells": [
    {
      "cell_type": "markdown",
      "metadata": {
        "id": "view-in-github",
        "colab_type": "text"
      },
      "source": [
        "<a href=\"https://colab.research.google.com/github/y-arjun-y/beech-red.css/blob/main/liars_miller_rabin.ipynb\" target=\"_parent\"><img src=\"https://colab.research.google.com/assets/colab-badge.svg\" alt=\"Open In Colab\"/></a>"
      ]
    },
    {
      "cell_type": "markdown",
      "source": [
        "# Liars in the Miller-Rabin Primality Test by Arjun Yadav\n",
        "## All code is available on [GitHub](https://github.com/y-arjun-y/liars-miller-rabin)."
      ],
      "metadata": {
        "id": "PAN0FyZRIRaI"
      }
    },
    {
      "cell_type": "markdown",
      "source": [
        "## Implementation of the Miller-Rabin primality test in Python"
      ],
      "metadata": {
        "id": "F5Va_xI6IglN"
      }
    },
    {
      "cell_type": "code",
      "execution_count": 2,
      "metadata": {
        "id": "teiA7Vg6o4vl"
      },
      "outputs": [],
      "source": [
        "'''\n",
        "Function by https://rosettacode.org/wiki/Miller%E2%80%93Rabin_primality_test#Python with slight changes to support a custom witness and explanation of the code. \n",
        "Function and its formula is based on https://en.wikipedia.org/wiki/Miller%E2%80%93Rabin_primality_test.\n",
        "A return value of False means n in not prime (i.e. composite).\n",
        "A return value of True means n is very likely to be a prime (depending on the number of rounds).\n",
        "'''\n",
        "\n",
        "def miller_rabin_base(n, a):\n",
        "  # checking if it is an integer\n",
        "    if n != int(n):\n",
        "        return False\n",
        "\n",
        "    n = int(n)\n",
        "\n",
        "    # base cases\n",
        "    if n == 0 or n == 1 or n == 4 or n == 6 or n == 8 or n == 9:\n",
        "        return False\n",
        "\n",
        "    if n == 2 or n == 3 or n == 5 or n == 7:\n",
        "        return True\n",
        "\n",
        "    if n % 2 == 0:\n",
        "        return False\n",
        "\n",
        "    # assigning variables\n",
        "    s = 0\n",
        "    d = n - 1\n",
        "\n",
        "    while d % 2 == 0:\n",
        "        d >>= 1\n",
        "        s += 1\n",
        "    \n",
        "    assert(2**s * d == n - 1)\n",
        "\n",
        "    # trial run\n",
        "    def trial_composite(a):\n",
        "        if pow(a, d, n) == 1:\n",
        "            return False\n",
        "\n",
        "        for i in range(s):\n",
        "            if pow(a, 2**i * d, n) == n - 1:\n",
        "                return False\n",
        "        return True\n",
        "\n",
        "    # number of trials, directly proportional to time and accuracy.\n",
        "    num_trials = 10\n",
        "\n",
        "    # true run\n",
        "    for _ in range(num_trials):\n",
        "        if trial_composite(a):\n",
        "            return False\n",
        "\n",
        "    return True"
      ]
    },
    {
      "cell_type": "markdown",
      "source": [
        "## Supporting multiple witnesses in the Miller-Rabin primality test"
      ],
      "metadata": {
        "id": "BOHi5EJTNgqW"
      }
    },
    {
      "cell_type": "code",
      "source": [
        "'''\n",
        "Returns False if any one witness returns False and True if all witnesses return True.\n",
        "Based on the following facts about the Miller-Rabin primality test:\n",
        "  A return value of False means n in not prime (i.e. composite).\n",
        "  A return value of True means n is very likely to be a prime (depending on the number of rounds).\n",
        "'''\n",
        "\n",
        "def miller_rabin(num, witness_list):\n",
        "  result = []\n",
        "  \n",
        "  for i in range(len(witness_list)):\n",
        "    result.append(miller_rabin_base(num, witness_list[i]))\n",
        "  \n",
        "  if False in result:\n",
        "    return False\n",
        "  \n",
        "  return True"
      ],
      "metadata": {
        "id": "49wqbJBeNmRt"
      },
      "execution_count": 16,
      "outputs": []
    },
    {
      "cell_type": "markdown",
      "source": [
        "## Simple prime number test"
      ],
      "metadata": {
        "id": "WjhyT_bpp8_r"
      }
    },
    {
      "cell_type": "code",
      "source": [
        "'''\n",
        "Returns whether a number is prime (true) or not (false).\n",
        "Credit: https://en.wikipedia.org/wiki/Primality_test#Python\n",
        "'''\n",
        "\n",
        "def actual_prime(n):\n",
        "    if n <= 3:\n",
        "        return n > 1\n",
        "    if n % 2 == 0 or n % 3 == 0:\n",
        "        return False\n",
        "    i = 5\n",
        "    while i ** 2 <= n:\n",
        "        if n % i == 0 or n % (i + 2) == 0:\n",
        "            return False\n",
        "        i += 6\n",
        "    return True"
      ],
      "metadata": {
        "id": "WFk5p2JvqEQf"
      },
      "execution_count": 21,
      "outputs": []
    },
    {
      "cell_type": "markdown",
      "source": [
        "## Finding the worst numbers in the Miller-Rabin primality test (for `n` in a certain range, single witness)"
      ],
      "metadata": {
        "id": "ihrK6WyP1Wkt"
      }
    },
    {
      "cell_type": "code",
      "source": [
        "# imports\n",
        "from tqdm import tqdm\n",
        "\n",
        "# constant\n",
        "DEFENDANT_RANGE = 100\n",
        "DEFENDANTS = [i for i in range(DEFENDANT_RANGE + 1) if i == 2 or i % 2 != 0]\n",
        "WITNESS_RANGE = DEFENDANT_RANGE # < DEFENDANT_RANGE + 1\n",
        "WITNESSES = [i for i in range(WITNESS_RANGE)]\n",
        "\n",
        "# variables\n",
        "results = {}\n",
        "\n",
        "# trial loop function\n",
        "def trial_loop(defendants, witness):\n",
        "  lie_count = 0\n",
        "\n",
        "  for defendant in defendants:\n",
        "      if miller_rabin_base(defendant, witness) != actual_prime(defendant):\n",
        "        lie_count += 1\n",
        "  \n",
        "  return lie_count\n",
        "\n",
        "# main loop\n",
        "for i in tqdm(range(WITNESS_RANGE)):\n",
        "  results[i] = trial_loop(DEFENDANTS, i)\n",
        "\n",
        "# finding top 25 worst witnesses\n",
        "for i in sorted(results.items(), key=lambda x: x[1], reverse=True)[:25]:\n",
        "  print(i)"
      ],
      "metadata": {
        "id": "h5PgkImvERxL",
        "colab": {
          "base_uri": "https://localhost:8080/"
        },
        "outputId": "01341a15-530b-43fe-ecd6-e20870d8255d"
      },
      "execution_count": 91,
      "outputs": [
        {
          "output_type": "stream",
          "name": "stderr",
          "text": [
            "100%|██████████| 100/100 [00:00<00:00, 1302.13it/s]"
          ]
        },
        {
          "output_type": "stream",
          "name": "stdout",
          "text": [
            "(1, 24)\n",
            "(0, 21)\n",
            "(74, 5)\n",
            "(76, 5)\n",
            "(82, 5)\n",
            "(38, 4)\n",
            "(62, 4)\n",
            "(68, 4)\n",
            "(79, 4)\n",
            "(18, 3)\n",
            "(22, 3)\n",
            "(26, 3)\n",
            "(29, 3)\n",
            "(31, 3)\n",
            "(34, 3)\n",
            "(43, 3)\n",
            "(44, 3)\n",
            "(46, 3)\n",
            "(47, 3)\n",
            "(53, 3)\n",
            "(57, 3)\n",
            "(64, 3)\n",
            "(67, 3)\n",
            "(69, 3)\n",
            "(80, 3)\n"
          ]
        },
        {
          "output_type": "stream",
          "name": "stderr",
          "text": [
            "\n"
          ]
        }
      ]
    },
    {
      "cell_type": "markdown",
      "source": [
        "## Finding the worst numbers in the Miller-Rabin primality test (for `n` in a certain range, mutiple witnesses)"
      ],
      "metadata": {
        "id": "VDR_Z3UUkgwr"
      }
    },
    {
      "cell_type": "code",
      "source": [
        "# # imports\n",
        "# from tqdm import tqdm\n",
        "\n",
        "# # constant\n",
        "# DEFENDANT_RANGE = 100\n",
        "# DEFENDANTS = [i for i in range(DEFENDANT_RANGE + 1)]\n",
        "# WITNESS_RANGE = DEFENDANT_RANGE # < DEFENDANT_RANGE + 1\n",
        "# WITNESSES = [i for i in range(WITNESS_RANGE)]\n",
        "\n",
        "# # variables\n",
        "# results = {}\n",
        "\n",
        "# # trial loop function\n",
        "# def trial_loop(defendants, witnesses):\n",
        "#   lie_count = 0\n",
        "\n",
        "#   for defendant in defendants:\n",
        "#       if miller_rabin(defendant, witnesses) != actual_prime(defendant):\n",
        "#         lie_count += 1\n",
        "  \n",
        "#   return lie_count\n",
        "\n",
        "# trial_loop(DEFENDANTS, WITNESSES)\n",
        "\n",
        "# # # main loop\n",
        "# # for i in tqdm(range(WITNESS_RANGE)):\n",
        "# #   results[i] = trial_loop(DEFENDANTS, i)\n",
        "\n",
        "# # # finding top 25 worst witnesses\n",
        "# # for i in sorted(results.items(), key=lambda x: x[1], reverse=True)[:25]:\n",
        "# #   print(i)"
      ],
      "metadata": {
        "id": "34lbTwUHksE6"
      },
      "execution_count": 100,
      "outputs": []
    }
  ]
}